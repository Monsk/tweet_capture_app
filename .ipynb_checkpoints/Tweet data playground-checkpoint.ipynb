{
 "cells": [
  {
   "cell_type": "code",
   "execution_count": 3,
   "metadata": {
    "collapsed": false
   },
   "outputs": [
    {
     "data": {
      "text/html": [
       "<div>\n",
       "<table border=\"1\" class=\"dataframe\">\n",
       "  <thead>\n",
       "    <tr style=\"text-align: right;\">\n",
       "      <th></th>\n",
       "      <th>id</th>\n",
       "      <th>text</th>\n",
       "      <th>associated_user</th>\n",
       "      <th>lang</th>\n",
       "      <th>time_zone</th>\n",
       "      <th>geolocation</th>\n",
       "      <th>recorded_at</th>\n",
       "      <th>occurred_at</th>\n",
       "    </tr>\n",
       "  </thead>\n",
       "  <tbody>\n",
       "    <tr>\n",
       "      <th>0</th>\n",
       "      <td>1</td>\n",
       "      <td>RT @europa_nexus: The pound Is now 'toxic' ami...</td>\n",
       "      <td>3003739203</td>\n",
       "      <td>en</td>\n",
       "      <td>NaN</td>\n",
       "      <td>NaN</td>\n",
       "      <td>2016-10-10 22:10:25.91269</td>\n",
       "      <td>2016-10-10 22:10:25</td>\n",
       "    </tr>\n",
       "    <tr>\n",
       "      <th>1</th>\n",
       "      <td>2</td>\n",
       "      <td>RT @Ed_Miliband: Negotiating secrecy won't was...</td>\n",
       "      <td>778070725</td>\n",
       "      <td>en</td>\n",
       "      <td>London</td>\n",
       "      <td>NaN</td>\n",
       "      <td>2016-10-10 22:10:26.137575</td>\n",
       "      <td>2016-10-10 22:10:25</td>\n",
       "    </tr>\n",
       "    <tr>\n",
       "      <th>2</th>\n",
       "      <td>3</td>\n",
       "      <td>RT @rocioguemes: #BREXIT,oportunidad para @Com...</td>\n",
       "      <td>271074488</td>\n",
       "      <td>es</td>\n",
       "      <td>Indiana (East)</td>\n",
       "      <td>NaN</td>\n",
       "      <td>2016-10-10 22:10:26.245869</td>\n",
       "      <td>2016-10-10 22:10:25</td>\n",
       "    </tr>\n",
       "    <tr>\n",
       "      <th>3</th>\n",
       "      <td>4</td>\n",
       "      <td>RT @MirandaButler3: Brilliant by @ProfMarkElli...</td>\n",
       "      <td>1398329066</td>\n",
       "      <td>en</td>\n",
       "      <td>NaN</td>\n",
       "      <td>NaN</td>\n",
       "      <td>2016-10-10 22:10:27.448815</td>\n",
       "      <td>2016-10-10 22:10:27</td>\n",
       "    </tr>\n",
       "    <tr>\n",
       "      <th>4</th>\n",
       "      <td>5</td>\n",
       "      <td>RT @judithmknott: I'm beginning to think they ...</td>\n",
       "      <td>3235349898</td>\n",
       "      <td>en</td>\n",
       "      <td>NaN</td>\n",
       "      <td>NaN</td>\n",
       "      <td>2016-10-10 22:10:29.902908</td>\n",
       "      <td>2016-10-10 22:10:29</td>\n",
       "    </tr>\n",
       "  </tbody>\n",
       "</table>\n",
       "</div>"
      ],
      "text/plain": [
       "   id                                               text  associated_user  \\\n",
       "0   1  RT @europa_nexus: The pound Is now 'toxic' ami...       3003739203   \n",
       "1   2  RT @Ed_Miliband: Negotiating secrecy won't was...        778070725   \n",
       "2   3  RT @rocioguemes: #BREXIT,oportunidad para @Com...        271074488   \n",
       "3   4  RT @MirandaButler3: Brilliant by @ProfMarkElli...       1398329066   \n",
       "4   5  RT @judithmknott: I'm beginning to think they ...       3235349898   \n",
       "\n",
       "  lang       time_zone  geolocation                 recorded_at  \\\n",
       "0   en             NaN          NaN   2016-10-10 22:10:25.91269   \n",
       "1   en          London          NaN  2016-10-10 22:10:26.137575   \n",
       "2   es  Indiana (East)          NaN  2016-10-10 22:10:26.245869   \n",
       "3   en             NaN          NaN  2016-10-10 22:10:27.448815   \n",
       "4   en             NaN          NaN  2016-10-10 22:10:29.902908   \n",
       "\n",
       "           occurred_at  \n",
       "0  2016-10-10 22:10:25  \n",
       "1  2016-10-10 22:10:25  \n",
       "2  2016-10-10 22:10:25  \n",
       "3  2016-10-10 22:10:27  \n",
       "4  2016-10-10 22:10:29  "
      ]
     },
     "execution_count": 3,
     "metadata": {},
     "output_type": "execute_result"
    }
   ],
   "source": [
    "import pandas as pd\n",
    "\n",
    "tweets = pd.read_csv('tweets.csv')\n",
    "\n",
    "tweets.head()"
   ]
  },
  {
   "cell_type": "code",
   "execution_count": 4,
   "metadata": {
    "collapsed": false
   },
   "outputs": [
    {
     "data": {
      "text/html": [
       "<div>\n",
       "<table border=\"1\" class=\"dataframe\">\n",
       "  <thead>\n",
       "    <tr style=\"text-align: right;\">\n",
       "      <th></th>\n",
       "      <th>time_zone</th>\n",
       "    </tr>\n",
       "  </thead>\n",
       "  <tbody>\n",
       "    <tr>\n",
       "      <th>London</th>\n",
       "      <td>41.0</td>\n",
       "    </tr>\n",
       "    <tr>\n",
       "      <th>Pacific Time (US &amp; Canada)</th>\n",
       "      <td>15.0</td>\n",
       "    </tr>\n",
       "    <tr>\n",
       "      <th>Amsterdam</th>\n",
       "      <td>6.4</td>\n",
       "    </tr>\n",
       "    <tr>\n",
       "      <th>Edinburgh</th>\n",
       "      <td>4.0</td>\n",
       "    </tr>\n",
       "    <tr>\n",
       "      <th>Eastern Time (US &amp; Canada)</th>\n",
       "      <td>4.0</td>\n",
       "    </tr>\n",
       "  </tbody>\n",
       "</table>\n",
       "</div>"
      ],
      "text/plain": [
       "                            time_zone\n",
       "London                           41.0\n",
       "Pacific Time (US & Canada)       15.0\n",
       "Amsterdam                         6.4\n",
       "Edinburgh                         4.0\n",
       "Eastern Time (US & Canada)        4.0"
      ]
     },
     "execution_count": 4,
     "metadata": {},
     "output_type": "execute_result"
    }
   ],
   "source": [
    "tzones = tweets['time_zone'].dropna()\n",
    "tzoneCounter = pd.DataFrame(tzones.value_counts())\n",
    "\n",
    "tzoneCounter.head()\n",
    "tzoneCounts = [tuple(x) for x in tzoneCounter.itertuples()]\n",
    "\n",
    "tzoneFraction = 100 * tzoneCounter / tzoneCounter.sum()\n",
    "tzoneFraction = tzoneFraction.round(1)\n",
    "\n",
    "tzoneFraction.head()\n",
    "\n"
   ]
  },
  {
   "cell_type": "code",
   "execution_count": 15,
   "metadata": {
    "collapsed": false
   },
   "outputs": [
    {
     "data": {
      "text/plain": [
       "Series([], Name: geolocation, dtype: int64)"
      ]
     },
     "execution_count": 15,
     "metadata": {},
     "output_type": "execute_result"
    }
   ],
   "source": [
    "location = tweets['geolocation']\n",
    "locationCounter = location.value_counts()\n",
    "\n",
    "locationCounter.head()"
   ]
  },
  {
   "cell_type": "code",
   "execution_count": 6,
   "metadata": {
    "collapsed": false
   },
   "outputs": [
    {
     "data": {
      "text/plain": [
       "[('Spanish', 1.45),\n",
       " ('French', 1.1000000000000001),\n",
       " ('Italian', 0.66000000000000003),\n",
       " ('German', 0.42999999999999999),\n",
       " ('Japanese', 0.17999999999999999),\n",
       " ('Dutch', 0.13),\n",
       " ('Russian', 0.10000000000000001),\n",
       " ('Polish', 0.10000000000000001),\n",
       " ('Portuguese', 0.089999999999999997),\n",
       " ('Turkish', 0.040000000000000001),\n",
       " ('Arabic', 0.029999999999999999),\n",
       " ('Greek', 0.029999999999999999),\n",
       " ('Czech', 0.02),\n",
       " ('Swedish', 0.02),\n",
       " ('Romanian', 0.02),\n",
       " ('Finnish', 0.02),\n",
       " ('Thai', 0.02),\n",
       " ('Latvian', 0.01),\n",
       " ('Ukrainian', 0.01),\n",
       " ('Filipino', 0.01)]"
      ]
     },
     "execution_count": 6,
     "metadata": {},
     "output_type": "execute_result"
    }
   ],
   "source": [
    "languages = {'ar': 'Arabic', 'bg': 'Bulgarian', 'ca': 'Catalan', 'cs': 'Czech', 'da': 'Danish', 'de': 'German', 'el': 'Greek', 'en': 'English', 'es': 'Spanish', 'et': 'Estonian',\n",
    "                 'fa': 'Persian', 'fi': 'Finnish', 'fr': 'French', 'hi': 'Hindi', 'hr': 'Croatian', 'hu': 'Hungarian', 'id': 'Indonesian', 'is': 'Icelandic', 'it': 'Italian', 'iw': 'Hebrew',\n",
    "                 'ja': 'Japanese', 'ko': 'Korean', 'lt': 'Lithuanian', 'lv': 'Latvian', 'ms': 'Malay', 'nl': 'Dutch', 'no': 'Norwegian', 'pl': 'Polish', 'pt': 'Portuguese', 'ro': 'Romanian',\n",
    "                 'ru': 'Russian', 'sk': 'Slovak', 'sl': 'Slovenian', 'sr': 'Serbian', 'sv': 'Swedish', 'th': 'Thai', 'tl': 'Filipino', 'tr': 'Turkish', 'uk': 'Ukrainian', 'ur': 'Urdu',\n",
    "                 'vi': 'Vietnamese', 'zh_CN': 'Chinese (simplified)', 'zh_TW': 'Chinese (traditional)'}\n",
    "\n",
    "def getLangFraction(data):\n",
    "        # Extract the languages, count them, and then turn the counter dict into a list of tuples\n",
    "\n",
    "        \n",
    "        langs = data['lang'].dropna()\n",
    "        langCounter = pd.DataFrame(langs.value_counts())\n",
    "        langFraction = 100 * langCounter / langCounter.sum()\n",
    "        langFraction = langFraction.round(3)\n",
    "        langFraction.index = [languages[x] for x in langFraction.index]\n",
    "        langFraction = [tuple(x) for x in langFraction.itertuples()]\n",
    "\n",
    "        return langFraction\n",
    "    \n",
    "langFraction = getLangFraction(tweets)\n",
    "\n",
    "langFraction = [i for i in langFraction if i[0] != 'English']\n",
    "\n",
    "langFraction\n",
    "    "
   ]
  },
  {
   "cell_type": "code",
   "execution_count": 88,
   "metadata": {
    "collapsed": false
   },
   "outputs": [],
   "source": [
    "retweet_data = {\n",
    "    'retweet_count': 2,\n",
    "    'retweet_text': \"text\"\n",
    "    }\n",
    "\n",
    "json = [{u'display_url': u'twitter.com/FoxNews/status\\u2026',\n",
    "                          u'expanded_url': u'http://twitter.com/FoxNews/status/790221530898821120',\n",
    "                          u'indices': [26, 49],\n",
    "                          u'url': u'https://t.co/Lw2pdoT85D'}]\n",
    "\n",
    "json = []\n",
    "\n",
    "for element in json:\n",
    "    print(element['expanded_url'])"
   ]
  },
  {
   "cell_type": "code",
   "execution_count": null,
   "metadata": {
    "collapsed": true
   },
   "outputs": [],
   "source": []
  }
 ],
 "metadata": {
  "kernelspec": {
   "display_name": "Python 2",
   "language": "python",
   "name": "python2"
  },
  "language_info": {
   "codemirror_mode": {
    "name": "ipython",
    "version": 2
   },
   "file_extension": ".py",
   "mimetype": "text/x-python",
   "name": "python",
   "nbconvert_exporter": "python",
   "pygments_lexer": "ipython2",
   "version": "2.7.10"
  }
 },
 "nbformat": 4,
 "nbformat_minor": 1
}
